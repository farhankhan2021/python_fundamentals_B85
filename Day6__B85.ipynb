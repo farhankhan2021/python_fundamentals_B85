{
 "cells": [
  {
   "cell_type": "code",
   "execution_count": null,
   "id": "8d906310",
   "metadata": {},
   "outputs": [],
   "source": [
    "Introduction to Looping Statements :"
   ]
  },
  {
   "cell_type": "code",
   "execution_count": null,
   "id": "6079c519",
   "metadata": {},
   "outputs": [],
   "source": [
    "1. For Loop\n",
    "\n",
    "2. While Loop"
   ]
  },
  {
   "cell_type": "code",
   "execution_count": null,
   "id": "9ae4d188",
   "metadata": {},
   "outputs": [],
   "source": []
  },
  {
   "cell_type": "code",
   "execution_count": 1,
   "id": "f2167242",
   "metadata": {},
   "outputs": [],
   "source": [
    "students = ['Naveen','meghana','khadija','ramesh','naveed','shafia']  # this is the main variable (students)"
   ]
  },
  {
   "cell_type": "code",
   "execution_count": 2,
   "id": "87965ab2",
   "metadata": {},
   "outputs": [
    {
     "name": "stdout",
     "output_type": "stream",
     "text": [
      "['Naveen', 'meghana', 'khadija', 'ramesh', 'naveed', 'shafia']\n"
     ]
    }
   ],
   "source": [
    "print(students)"
   ]
  },
  {
   "cell_type": "code",
   "execution_count": 4,
   "id": "f6cca0e2",
   "metadata": {},
   "outputs": [
    {
     "name": "stdout",
     "output_type": "stream",
     "text": [
      "keep up the good work, Naveen\n"
     ]
    }
   ],
   "source": [
    "message = f\"keep up the good work, {students[0]}\"\n",
    "\n",
    "print(message)"
   ]
  },
  {
   "cell_type": "code",
   "execution_count": 5,
   "id": "6d07bce7",
   "metadata": {},
   "outputs": [
    {
     "name": "stdout",
     "output_type": "stream",
     "text": [
      "keep up the good work, meghana\n"
     ]
    }
   ],
   "source": [
    "message = f\"keep up the good work, {students[1]}\"\n",
    "\n",
    "print(message)"
   ]
  },
  {
   "cell_type": "code",
   "execution_count": 6,
   "id": "e4506d7f",
   "metadata": {},
   "outputs": [
    {
     "name": "stdout",
     "output_type": "stream",
     "text": [
      "keep up the good work, khadija\n"
     ]
    }
   ],
   "source": [
    "message = message = f\"keep up the good work, {students[0]}\"\n",
    "\n",
    "print(message)\n",
    "\n",
    "print(message)"
   ]
  },
  {
   "cell_type": "code",
   "execution_count": null,
   "id": "53af872d",
   "metadata": {},
   "outputs": [],
   "source": []
  },
  {
   "cell_type": "code",
   "execution_count": null,
   "id": "456fd692",
   "metadata": {},
   "outputs": [],
   "source": [
    "# general syntax of For Loop :"
   ]
  },
  {
   "cell_type": "code",
   "execution_count": null,
   "id": "fb49140c",
   "metadata": {},
   "outputs": [],
   "source": [
    "for tempvar in mainvar:\n",
    "    print(tempvar)"
   ]
  },
  {
   "cell_type": "code",
   "execution_count": 7,
   "id": "ff269e32",
   "metadata": {},
   "outputs": [],
   "source": [
    "for x in students:\n",
    "    printmessage = f\"keep up the good work, {x}\""
   ]
  },
  {
   "cell_type": "code",
   "execution_count": 8,
   "id": "d5ef84c5",
   "metadata": {},
   "outputs": [
    {
     "name": "stdout",
     "output_type": "stream",
     "text": [
      "keep up the good work, Naveen\n",
      "keep up the good work, meghana\n",
      "keep up the good work, khadija\n",
      "keep up the good work, ramesh\n",
      "keep up the good work, naveed\n",
      "keep up the good work, shafia\n"
     ]
    }
   ],
   "source": [
    "for x in students:\n",
    "    print(f\"keep up the good work, {x}\")"
   ]
  },
  {
   "cell_type": "code",
   "execution_count": null,
   "id": "14d13ec4",
   "metadata": {},
   "outputs": [],
   "source": []
  },
  {
   "cell_type": "code",
   "execution_count": null,
   "id": "0431efa4",
   "metadata": {},
   "outputs": [],
   "source": [
    "for tempvar in mainvar:\n",
    "    print(tempvar)      # indentation (means The indentation tells Python which statements are in the loop, \n",
    "                                       and which are outside the loop.)"
   ]
  },
  {
   "cell_type": "code",
   "execution_count": 9,
   "id": "e9d72b71",
   "metadata": {},
   "outputs": [
    {
     "ename": "IndentationError",
     "evalue": "expected an indented block after 'for' statement on line 1 (2829379544.py, line 2)",
     "output_type": "error",
     "traceback": [
      "\u001b[1;36m  Cell \u001b[1;32mIn[9], line 2\u001b[1;36m\u001b[0m\n\u001b[1;33m    print(tempvar)\u001b[0m\n\u001b[1;37m    ^\u001b[0m\n\u001b[1;31mIndentationError\u001b[0m\u001b[1;31m:\u001b[0m expected an indented block after 'for' statement on line 1\n"
     ]
    }
   ],
   "source": [
    "for tempvar in mainvar:\n",
    "print(tempvar)          ** what happens if there is no indentation in for loop ======> (it will show error)"
   ]
  },
  {
   "cell_type": "code",
   "execution_count": 10,
   "id": "f6b888b5",
   "metadata": {},
   "outputs": [
    {
     "name": "stdout",
     "output_type": "stream",
     "text": [
      "Naveen\n",
      "meghana\n",
      "khadija\n",
      "ramesh\n",
      "naveed\n",
      "shafia\n"
     ]
    }
   ],
   "source": [
    "for a in students:\n",
    "    print(a)"
   ]
  },
  {
   "cell_type": "code",
   "execution_count": 11,
   "id": "085c0198",
   "metadata": {},
   "outputs": [
    {
     "name": "stdout",
     "output_type": "stream",
     "text": [
      "Naveen\n",
      "meghana\n",
      "khadija\n",
      "ramesh\n",
      "naveed\n",
      "shafia\n"
     ]
    }
   ],
   "source": [
    "for b in students:\n",
    "    print(b)"
   ]
  },
  {
   "cell_type": "code",
   "execution_count": 14,
   "id": "b3aea04b",
   "metadata": {},
   "outputs": [
    {
     "name": "stdout",
     "output_type": "stream",
     "text": [
      "NAVEEN\n",
      "MEGHANA\n",
      "KHADIJA\n",
      "RAMESH\n",
      "NAVEED\n",
      "SHAFIA\n"
     ]
    }
   ],
   "source": [
    "for ironman in students:\n",
    "    print(ironman.title().upper()) "
   ]
  },
  {
   "cell_type": "code",
   "execution_count": null,
   "id": "edcc7c20",
   "metadata": {},
   "outputs": [],
   "source": []
  },
  {
   "cell_type": "code",
   "execution_count": null,
   "id": "4449e9f9",
   "metadata": {},
   "outputs": [],
   "source": []
  }
 ],
 "metadata": {
  "kernelspec": {
   "display_name": "Python 3 (ipykernel)",
   "language": "python",
   "name": "python3"
  },
  "language_info": {
   "codemirror_mode": {
    "name": "ipython",
    "version": 3
   },
   "file_extension": ".py",
   "mimetype": "text/x-python",
   "name": "python",
   "nbconvert_exporter": "python",
   "pygments_lexer": "ipython3",
   "version": "3.11.5"
  }
 },
 "nbformat": 4,
 "nbformat_minor": 5
}
