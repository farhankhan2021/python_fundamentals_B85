{
 "cells": [
  {
   "cell_type": "code",
   "execution_count": null,
   "id": "882d8983",
   "metadata": {},
   "outputs": [],
   "source": [
    "introduction to immutable datatype : "
   ]
  },
  {
   "cell_type": "code",
   "execution_count": null,
   "id": "427045b7",
   "metadata": {},
   "outputs": [],
   "source": [
    "Defination : An immutable list is called as an tuple.\n",
    "\n",
    "Classification : It is classified as immutable dataype (Fixed Datatype ========> we will not be able to modify it.)\n",
    "    \n",
    "How to define the tuple datatype ======>  (  )"
   ]
  },
  {
   "cell_type": "code",
   "execution_count": null,
   "id": "60ecf09b",
   "metadata": {},
   "outputs": [],
   "source": []
  },
  {
   "cell_type": "code",
   "execution_count": null,
   "id": "bea1c7fb",
   "metadata": {},
   "outputs": [],
   "source": []
  },
  {
   "cell_type": "code",
   "execution_count": 1,
   "id": "1da1fb0c",
   "metadata": {},
   "outputs": [],
   "source": [
    "students = ('sarika','keerthi','naveed','joseph')"
   ]
  },
  {
   "cell_type": "code",
   "execution_count": 2,
   "id": "437c241c",
   "metadata": {},
   "outputs": [
    {
     "name": "stdout",
     "output_type": "stream",
     "text": [
      "('sarika', 'keerthi', 'naveed', 'joseph')\n"
     ]
    }
   ],
   "source": [
    "print(students)"
   ]
  },
  {
   "cell_type": "code",
   "execution_count": 3,
   "id": "46eb7018",
   "metadata": {},
   "outputs": [
    {
     "data": {
      "text/plain": [
       "tuple"
      ]
     },
     "execution_count": 3,
     "metadata": {},
     "output_type": "execute_result"
    }
   ],
   "source": [
    "type(students)"
   ]
  },
  {
   "cell_type": "code",
   "execution_count": 5,
   "id": "6dfa7553",
   "metadata": {},
   "outputs": [
    {
     "name": "stdout",
     "output_type": "stream",
     "text": [
      "sarika\n"
     ]
    }
   ],
   "source": [
    "print(students[0])"
   ]
  },
  {
   "cell_type": "code",
   "execution_count": null,
   "id": "7da0bf60",
   "metadata": {},
   "outputs": [],
   "source": [
    "# req : i want to change sarika name to sangeetha"
   ]
  },
  {
   "cell_type": "code",
   "execution_count": 6,
   "id": "d802904a",
   "metadata": {},
   "outputs": [
    {
     "ename": "TypeError",
     "evalue": "'tuple' object does not support item assignment",
     "output_type": "error",
     "traceback": [
      "\u001b[1;31m---------------------------------------------------------------------------\u001b[0m",
      "\u001b[1;31mTypeError\u001b[0m                                 Traceback (most recent call last)",
      "Cell \u001b[1;32mIn[6], line 1\u001b[0m\n\u001b[1;32m----> 1\u001b[0m students[\u001b[38;5;241m0\u001b[39m] \u001b[38;5;241m=\u001b[39m \u001b[38;5;124m'\u001b[39m\u001b[38;5;124mSangeetha\u001b[39m\u001b[38;5;124m'\u001b[39m\n",
      "\u001b[1;31mTypeError\u001b[0m: 'tuple' object does not support item assignment"
     ]
    }
   ],
   "source": [
    "students[0] = 'Sangeetha'"
   ]
  },
  {
   "cell_type": "code",
   "execution_count": null,
   "id": "ed3a851e",
   "metadata": {},
   "outputs": [],
   "source": []
  },
  {
   "cell_type": "code",
   "execution_count": 7,
   "id": "6c371ef7",
   "metadata": {},
   "outputs": [],
   "source": [
    "dimensions = (200,5)"
   ]
  },
  {
   "cell_type": "code",
   "execution_count": 8,
   "id": "0f35bed8",
   "metadata": {},
   "outputs": [
    {
     "data": {
      "text/plain": [
       "tuple"
      ]
     },
     "execution_count": 8,
     "metadata": {},
     "output_type": "execute_result"
    }
   ],
   "source": [
    "type(dimensions)"
   ]
  },
  {
   "cell_type": "code",
   "execution_count": 9,
   "id": "2b892781",
   "metadata": {},
   "outputs": [
    {
     "ename": "TypeError",
     "evalue": "'tuple' object does not support item assignment",
     "output_type": "error",
     "traceback": [
      "\u001b[1;31m---------------------------------------------------------------------------\u001b[0m",
      "\u001b[1;31mTypeError\u001b[0m                                 Traceback (most recent call last)",
      "Cell \u001b[1;32mIn[9], line 1\u001b[0m\n\u001b[1;32m----> 1\u001b[0m dimensions[\u001b[38;5;241m0\u001b[39m] \u001b[38;5;241m=\u001b[39m \u001b[38;5;241m250\u001b[39m\n",
      "\u001b[1;31mTypeError\u001b[0m: 'tuple' object does not support item assignment"
     ]
    }
   ],
   "source": [
    "dimensions[0] = 250"
   ]
  },
  {
   "cell_type": "code",
   "execution_count": 10,
   "id": "b778a90f",
   "metadata": {},
   "outputs": [
    {
     "name": "stdout",
     "output_type": "stream",
     "text": [
      "('sarika', 'keerthi', 'naveed', 'joseph')\n"
     ]
    }
   ],
   "source": [
    "print(students)"
   ]
  },
  {
   "cell_type": "code",
   "execution_count": 11,
   "id": "fd2c2e37",
   "metadata": {},
   "outputs": [
    {
     "name": "stdout",
     "output_type": "stream",
     "text": [
      "naveed\n"
     ]
    }
   ],
   "source": [
    "print(students[2])"
   ]
  },
  {
   "cell_type": "code",
   "execution_count": 12,
   "id": "0375422f",
   "metadata": {},
   "outputs": [
    {
     "name": "stdout",
     "output_type": "stream",
     "text": [
      "Naveed\n"
     ]
    }
   ],
   "source": [
    "print(students[2].title())"
   ]
  },
  {
   "cell_type": "code",
   "execution_count": 13,
   "id": "8f7550e0",
   "metadata": {},
   "outputs": [
    {
     "name": "stdout",
     "output_type": "stream",
     "text": [
      "sarika\n",
      "keerthi\n",
      "naveed\n",
      "joseph\n"
     ]
    }
   ],
   "source": [
    "for a in students:\n",
    "    print(a)"
   ]
  },
  {
   "cell_type": "code",
   "execution_count": null,
   "id": "ee84a989",
   "metadata": {},
   "outputs": [],
   "source": []
  },
  {
   "cell_type": "code",
   "execution_count": null,
   "id": "51787644",
   "metadata": {},
   "outputs": [],
   "source": [
    "introduction to dictionaries ****"
   ]
  },
  {
   "cell_type": "code",
   "execution_count": null,
   "id": "c5cba0d2",
   "metadata": {},
   "outputs": [],
   "source": [
    "Defination : A dict is a combination of key , value pairs.\n",
    "    \n",
    "Classificaation : It is classified as a mutable datatype (we can edit / alter)\n",
    "    \n",
    "how to define the dictionary ......?  { }"
   ]
  },
  {
   "cell_type": "code",
   "execution_count": null,
   "id": "746bebb3",
   "metadata": {},
   "outputs": [],
   "source": []
  },
  {
   "cell_type": "code",
   "execution_count": 14,
   "id": "2c5bbaae",
   "metadata": {},
   "outputs": [],
   "source": [
    "alien = {'color':'green','points':'5'}"
   ]
  },
  {
   "cell_type": "code",
   "execution_count": 15,
   "id": "2965068c",
   "metadata": {},
   "outputs": [
    {
     "name": "stdout",
     "output_type": "stream",
     "text": [
      "{'color': 'green', 'points': '5'}\n"
     ]
    }
   ],
   "source": [
    "print(alien)"
   ]
  },
  {
   "cell_type": "code",
   "execution_count": 16,
   "id": "6e3ff753",
   "metadata": {},
   "outputs": [
    {
     "data": {
      "text/plain": [
       "dict"
      ]
     },
     "execution_count": 16,
     "metadata": {},
     "output_type": "execute_result"
    }
   ],
   "source": [
    "type(alien)"
   ]
  },
  {
   "cell_type": "code",
   "execution_count": null,
   "id": "e658b3f4",
   "metadata": {},
   "outputs": [],
   "source": []
  },
  {
   "cell_type": "code",
   "execution_count": null,
   "id": "2e00b4bb",
   "metadata": {},
   "outputs": [],
   "source": [
    "# create a facebook account : "
   ]
  },
  {
   "cell_type": "code",
   "execution_count": 17,
   "id": "9b998729",
   "metadata": {},
   "outputs": [],
   "source": [
    "user_name = {'first_name':'code','last_name':'training','dob':'01-01-2020','password':'54321'}"
   ]
  },
  {
   "cell_type": "code",
   "execution_count": 18,
   "id": "577cfdfd",
   "metadata": {},
   "outputs": [
    {
     "name": "stdout",
     "output_type": "stream",
     "text": [
      "{'first_name': 'code', 'last_name': 'training', 'dob': '01-01-2020', 'password': '54321'}\n"
     ]
    }
   ],
   "source": [
    "print(user_name)"
   ]
  },
  {
   "cell_type": "code",
   "execution_count": 19,
   "id": "b353a1fd",
   "metadata": {},
   "outputs": [
    {
     "data": {
      "text/plain": [
       "dict"
      ]
     },
     "execution_count": 19,
     "metadata": {},
     "output_type": "execute_result"
    }
   ],
   "source": [
    "type(user_name)"
   ]
  },
  {
   "cell_type": "code",
   "execution_count": null,
   "id": "d5cb85ee",
   "metadata": {},
   "outputs": [],
   "source": []
  },
  {
   "cell_type": "code",
   "execution_count": null,
   "id": "80b784fd",
   "metadata": {},
   "outputs": [],
   "source": [
    "# ading a key value pair to the dictionary :"
   ]
  },
  {
   "cell_type": "code",
   "execution_count": 20,
   "id": "5f294b0f",
   "metadata": {},
   "outputs": [
    {
     "ename": "SyntaxError",
     "evalue": "illegal target for annotation (2445790020.py, line 1)",
     "output_type": "error",
     "traceback": [
      "\u001b[1;36m  Cell \u001b[1;32mIn[20], line 1\u001b[1;36m\u001b[0m\n\u001b[1;33m    'location':'autumn leaf'\u001b[0m\n\u001b[1;37m    ^\u001b[0m\n\u001b[1;31mSyntaxError\u001b[0m\u001b[1;31m:\u001b[0m illegal target for annotation\n"
     ]
    }
   ],
   "source": [
    "'location':'autumn leaf'"
   ]
  },
  {
   "cell_type": "code",
   "execution_count": 21,
   "id": "6d6e6d84",
   "metadata": {},
   "outputs": [],
   "source": [
    "user_name['location'] = 'autumn leaf'"
   ]
  },
  {
   "cell_type": "code",
   "execution_count": 22,
   "id": "756dca9c",
   "metadata": {},
   "outputs": [
    {
     "name": "stdout",
     "output_type": "stream",
     "text": [
      "{'first_name': 'code', 'last_name': 'training', 'dob': '01-01-2020', 'password': '54321', 'location': 'autumn leaf'}\n"
     ]
    }
   ],
   "source": [
    "print(user_name)"
   ]
  },
  {
   "cell_type": "code",
   "execution_count": null,
   "id": "ce94ad8f",
   "metadata": {},
   "outputs": [],
   "source": []
  },
  {
   "cell_type": "code",
   "execution_count": null,
   "id": "0222f585",
   "metadata": {},
   "outputs": [],
   "source": [
    "# req : how to access key value"
   ]
  },
  {
   "cell_type": "code",
   "execution_count": null,
   "id": "5d4cebf8",
   "metadata": {},
   "outputs": [],
   "source": [
    "give the key and get the value :"
   ]
  },
  {
   "cell_type": "code",
   "execution_count": 23,
   "id": "a8bb4e38",
   "metadata": {},
   "outputs": [
    {
     "name": "stdout",
     "output_type": "stream",
     "text": [
      "training\n"
     ]
    }
   ],
   "source": [
    "print(user_name['last_name'])"
   ]
  },
  {
   "cell_type": "code",
   "execution_count": 24,
   "id": "35244579",
   "metadata": {},
   "outputs": [
    {
     "ename": "KeyError",
     "evalue": "'code'",
     "output_type": "error",
     "traceback": [
      "\u001b[1;31m---------------------------------------------------------------------------\u001b[0m",
      "\u001b[1;31mKeyError\u001b[0m                                  Traceback (most recent call last)",
      "Cell \u001b[1;32mIn[24], line 1\u001b[0m\n\u001b[1;32m----> 1\u001b[0m \u001b[38;5;28mprint\u001b[39m(user_name[\u001b[38;5;124m'\u001b[39m\u001b[38;5;124mcode\u001b[39m\u001b[38;5;124m'\u001b[39m])\n",
      "\u001b[1;31mKeyError\u001b[0m: 'code'"
     ]
    }
   ],
   "source": [
    "print(user_name['code'])"
   ]
  },
  {
   "cell_type": "code",
   "execution_count": null,
   "id": "5724a211",
   "metadata": {},
   "outputs": [],
   "source": []
  }
 ],
 "metadata": {
  "kernelspec": {
   "display_name": "Python 3 (ipykernel)",
   "language": "python",
   "name": "python3"
  },
  "language_info": {
   "codemirror_mode": {
    "name": "ipython",
    "version": 3
   },
   "file_extension": ".py",
   "mimetype": "text/x-python",
   "name": "python",
   "nbconvert_exporter": "python",
   "pygments_lexer": "ipython3",
   "version": "3.11.5"
  }
 },
 "nbformat": 4,
 "nbformat_minor": 5
}
