{
 "cells": [
  {
   "cell_type": "code",
   "execution_count": 1,
   "id": "c330505f",
   "metadata": {},
   "outputs": [
    {
     "name": "stdout",
     "output_type": "stream",
     "text": [
      "Hello All Welcome to the Python programming world\n"
     ]
    }
   ],
   "source": [
    "print(\"Hello All Welcome to the Python programming world\")"
   ]
  },
  {
   "cell_type": "code",
   "execution_count": null,
   "id": "4569b732",
   "metadata": {},
   "outputs": [],
   "source": [
    "Shift + Enter button together for executing program"
   ]
  }
 ],
 "metadata": {
  "kernelspec": {
   "display_name": "Python 3 (ipykernel)",
   "language": "python",
   "name": "python3"
  },
  "language_info": {
   "codemirror_mode": {
    "name": "ipython",
    "version": 3
   },
   "file_extension": ".py",
   "mimetype": "text/x-python",
   "name": "python",
   "nbconvert_exporter": "python",
   "pygments_lexer": "ipython3",
   "version": "3.11.5"
  }
 },
 "nbformat": 4,
 "nbformat_minor": 5
}
