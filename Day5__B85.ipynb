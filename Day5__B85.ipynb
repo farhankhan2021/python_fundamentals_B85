{
 "cells": [
  {
   "cell_type": "code",
   "execution_count": null,
   "id": "7da95622",
   "metadata": {},
   "outputs": [],
   "source": [
    "continuation with list datatype :"
   ]
  },
  {
   "cell_type": "code",
   "execution_count": null,
   "id": "36ceaa70",
   "metadata": {},
   "outputs": [],
   "source": []
  },
  {
   "cell_type": "code",
   "execution_count": null,
   "id": "4139c156",
   "metadata": {},
   "outputs": [],
   "source": [
    "organising the list datatype :"
   ]
  },
  {
   "cell_type": "code",
   "execution_count": 1,
   "id": "aa3df9c7",
   "metadata": {},
   "outputs": [],
   "source": [
    "cars = ['suzuki','maruti','hyundai','benz','kia','audi','tata','bmw','honda','toyota','ford','volvo']"
   ]
  },
  {
   "cell_type": "code",
   "execution_count": 2,
   "id": "706a5861",
   "metadata": {},
   "outputs": [
    {
     "name": "stdout",
     "output_type": "stream",
     "text": [
      "['suzuki', 'maruti', 'hyundai', 'benz', 'kia', 'audi', 'tata', 'bmw', 'honda', 'toyota', 'ford', 'volvo']\n"
     ]
    }
   ],
   "source": [
    "print(cars)"
   ]
  },
  {
   "cell_type": "code",
   "execution_count": null,
   "id": "1c8866dd",
   "metadata": {},
   "outputs": [],
   "source": [
    "# req : i waant to organise the above list in alphabetical order wise : A-Z"
   ]
  },
  {
   "cell_type": "code",
   "execution_count": null,
   "id": "d606225b",
   "metadata": {},
   "outputs": [],
   "source": [
    "Approaches :\n",
    "    \n",
    "    1. Temp Approach =========> we will be able to get the original defined list order -----> sorted\n",
    "    2. Permanent Approach  =======> changes will be applied permanently --------> sort"
   ]
  },
  {
   "cell_type": "code",
   "execution_count": 3,
   "id": "ca90c593",
   "metadata": {},
   "outputs": [
    {
     "name": "stdout",
     "output_type": "stream",
     "text": [
      "['suzuki', 'maruti', 'hyundai', 'benz', 'kia', 'audi', 'tata', 'bmw', 'honda', 'toyota', 'ford', 'volvo']\n"
     ]
    }
   ],
   "source": [
    "print(cars)"
   ]
  },
  {
   "cell_type": "code",
   "execution_count": 8,
   "id": "30f7c3b4",
   "metadata": {},
   "outputs": [
    {
     "name": "stdout",
     "output_type": "stream",
     "text": [
      "['audi', 'benz', 'bmw', 'ford', 'honda', 'hyundai', 'kia', 'maruti', 'suzuki', 'tata', 'toyota', 'volvo']\n"
     ]
    }
   ],
   "source": [
    "print(sorted(cars))"
   ]
  },
  {
   "cell_type": "code",
   "execution_count": null,
   "id": "1fe5ecc2",
   "metadata": {},
   "outputs": [],
   "source": [
    "a , b , b , f , h , h , k , m , s , t , t , v"
   ]
  },
  {
   "cell_type": "code",
   "execution_count": null,
   "id": "a17d9a11",
   "metadata": {},
   "outputs": [],
   "source": [
    "benz, bmw ======> b , b ====> e , m            -----> pthon will be evaluating the next immediate alphabet"
   ]
  },
  {
   "cell_type": "code",
   "execution_count": 5,
   "id": "58d45c61",
   "metadata": {},
   "outputs": [
    {
     "name": "stdout",
     "output_type": "stream",
     "text": [
      "['suzuki', 'maruti', 'hyundai', 'benz', 'kia', 'audi', 'tata', 'bmw', 'honda', 'toyota', 'ford', 'volvo']\n"
     ]
    }
   ],
   "source": [
    "print(cars)  # this is original order that we have defined .......!"
   ]
  },
  {
   "cell_type": "code",
   "execution_count": 6,
   "id": "f55eccad",
   "metadata": {},
   "outputs": [],
   "source": [
    "cars.sort()"
   ]
  },
  {
   "cell_type": "code",
   "execution_count": 7,
   "id": "a50d8ed4",
   "metadata": {},
   "outputs": [
    {
     "name": "stdout",
     "output_type": "stream",
     "text": [
      "['audi', 'benz', 'bmw', 'ford', 'honda', 'hyundai', 'kia', 'maruti', 'suzuki', 'tata', 'toyota', 'volvo']\n"
     ]
    }
   ],
   "source": [
    "print(cars)"
   ]
  },
  {
   "cell_type": "code",
   "execution_count": 9,
   "id": "088d2fdc",
   "metadata": {},
   "outputs": [
    {
     "name": "stdout",
     "output_type": "stream",
     "text": [
      "['audi', 'benz', 'bmw', 'ford', 'honda', 'hyundai', 'kia', 'maruti', 'suzuki', 'tata', 'toyota', 'volvo']\n"
     ]
    }
   ],
   "source": [
    "print(cars)"
   ]
  },
  {
   "cell_type": "code",
   "execution_count": null,
   "id": "82e2c755",
   "metadata": {},
   "outputs": [],
   "source": []
  },
  {
   "cell_type": "code",
   "execution_count": null,
   "id": "15443f01",
   "metadata": {},
   "outputs": [],
   "source": [
    "# what is the difference between sorted and sort methods in list datatype ....?"
   ]
  },
  {
   "cell_type": "code",
   "execution_count": null,
   "id": "f6901fc7",
   "metadata": {},
   "outputs": [],
   "source": [
    "# req : i want to know the no of elements in the list datatype ....?"
   ]
  },
  {
   "cell_type": "code",
   "execution_count": 10,
   "id": "ff8fd01b",
   "metadata": {},
   "outputs": [
    {
     "data": {
      "text/plain": [
       "12"
      ]
     },
     "execution_count": 10,
     "metadata": {},
     "output_type": "execute_result"
    }
   ],
   "source": [
    "len(cars)"
   ]
  },
  {
   "cell_type": "code",
   "execution_count": null,
   "id": "9fa46f26",
   "metadata": {},
   "outputs": [],
   "source": [
    "# req : i want to reverse the list that has been defined.  A-Z  order ========> Z-A"
   ]
  },
  {
   "cell_type": "code",
   "execution_count": 11,
   "id": "e8264fcc",
   "metadata": {},
   "outputs": [
    {
     "name": "stdout",
     "output_type": "stream",
     "text": [
      "['audi', 'benz', 'bmw', 'ford', 'honda', 'hyundai', 'kia', 'maruti', 'suzuki', 'tata', 'toyota', 'volvo']\n"
     ]
    }
   ],
   "source": [
    "print(cars)"
   ]
  },
  {
   "cell_type": "code",
   "execution_count": 12,
   "id": "886337cb",
   "metadata": {},
   "outputs": [],
   "source": [
    "cars.reverse()"
   ]
  },
  {
   "cell_type": "code",
   "execution_count": 13,
   "id": "04f9b76c",
   "metadata": {},
   "outputs": [
    {
     "name": "stdout",
     "output_type": "stream",
     "text": [
      "['volvo', 'toyota', 'tata', 'suzuki', 'maruti', 'kia', 'hyundai', 'honda', 'ford', 'bmw', 'benz', 'audi']\n"
     ]
    }
   ],
   "source": [
    "print(cars)"
   ]
  },
  {
   "cell_type": "code",
   "execution_count": null,
   "id": "6d7206f3",
   "metadata": {},
   "outputs": [],
   "source": []
  },
  {
   "cell_type": "code",
   "execution_count": null,
   "id": "5bb7c664",
   "metadata": {},
   "outputs": [],
   "source": [
    "Introduction to slicing :"
   ]
  },
  {
   "cell_type": "code",
   "execution_count": 14,
   "id": "d3146ead",
   "metadata": {},
   "outputs": [],
   "source": [
    "students = ['parvez','naveen','khadija','roja','karthik','joseph']"
   ]
  },
  {
   "cell_type": "code",
   "execution_count": 15,
   "id": "a222fb57",
   "metadata": {},
   "outputs": [
    {
     "name": "stdout",
     "output_type": "stream",
     "text": [
      "['parvez', 'naveen', 'khadija', 'roja', 'karthik', 'joseph']\n"
     ]
    }
   ],
   "source": [
    "print(students)"
   ]
  },
  {
   "cell_type": "code",
   "execution_count": null,
   "id": "610fe7d4",
   "metadata": {},
   "outputs": [],
   "source": [
    "# general syntax of slicing :\n",
    "\n",
    "[start_value:stop_value_step_count]"
   ]
  },
  {
   "cell_type": "code",
   "execution_count": null,
   "id": "4a23aae1",
   "metadata": {},
   "outputs": [],
   "source": []
  },
  {
   "cell_type": "code",
   "execution_count": null,
   "id": "f0f9ef1b",
   "metadata": {},
   "outputs": [],
   "source": [
    "Note : Last value is always exclusive, to include it we have to increment the index value by +1."
   ]
  },
  {
   "cell_type": "code",
   "execution_count": null,
   "id": "c3d6051e",
   "metadata": {},
   "outputs": [],
   "source": [
    "# req : I want to get parvez and naveen in slice."
   ]
  },
  {
   "cell_type": "code",
   "execution_count": 16,
   "id": "ced49f98",
   "metadata": {},
   "outputs": [
    {
     "name": "stdout",
     "output_type": "stream",
     "text": [
      "['parvez']\n"
     ]
    }
   ],
   "source": [
    "print(students[0:1])"
   ]
  },
  {
   "cell_type": "code",
   "execution_count": 17,
   "id": "377690bb",
   "metadata": {},
   "outputs": [
    {
     "name": "stdout",
     "output_type": "stream",
     "text": [
      "['parvez', 'naveen']\n"
     ]
    }
   ],
   "source": [
    "print(students[0:2])"
   ]
  },
  {
   "cell_type": "code",
   "execution_count": null,
   "id": "67a2caec",
   "metadata": {},
   "outputs": [],
   "source": [
    "# req : i want to have khadija and roja in the slice"
   ]
  },
  {
   "cell_type": "code",
   "execution_count": 18,
   "id": "2748b23e",
   "metadata": {},
   "outputs": [
    {
     "name": "stdout",
     "output_type": "stream",
     "text": [
      "['khadija', 'roja']\n"
     ]
    }
   ],
   "source": [
    "print(students[2:4])"
   ]
  },
  {
   "cell_type": "code",
   "execution_count": null,
   "id": "00da6d94",
   "metadata": {},
   "outputs": [],
   "source": [
    "# req : i want to have karthik and joseph in the slice"
   ]
  },
  {
   "cell_type": "code",
   "execution_count": 19,
   "id": "685b1821",
   "metadata": {},
   "outputs": [
    {
     "name": "stdout",
     "output_type": "stream",
     "text": [
      "['karthik', 'joseph']\n"
     ]
    }
   ],
   "source": [
    "print(students[4:6])"
   ]
  },
  {
   "cell_type": "code",
   "execution_count": null,
   "id": "e5fa2821",
   "metadata": {},
   "outputs": [],
   "source": []
  },
  {
   "cell_type": "code",
   "execution_count": 20,
   "id": "59d995b7",
   "metadata": {},
   "outputs": [],
   "source": [
    "# is used for commenting the code"
   ]
  },
  {
   "cell_type": "code",
   "execution_count": 21,
   "id": "c1b572e3",
   "metadata": {},
   "outputs": [
    {
     "ename": "SyntaxError",
     "evalue": "invalid syntax (1938111214.py, line 1)",
     "output_type": "error",
     "traceback": [
      "\u001b[1;36m  Cell \u001b[1;32mIn[21], line 1\u001b[1;36m\u001b[0m\n\u001b[1;33m    is used for commenting the code\u001b[0m\n\u001b[1;37m    ^\u001b[0m\n\u001b[1;31mSyntaxError\u001b[0m\u001b[1;31m:\u001b[0m invalid syntax\n"
     ]
    }
   ],
   "source": [
    "is used for commenting the code"
   ]
  },
  {
   "cell_type": "code",
   "execution_count": 23,
   "id": "8cb096d5",
   "metadata": {},
   "outputs": [
    {
     "name": "stdout",
     "output_type": "stream",
     "text": [
      "['parvez', 'khadija', 'karthik']\n"
     ]
    }
   ],
   "source": [
    "print(students[0:6:2])"
   ]
  },
  {
   "cell_type": "code",
   "execution_count": null,
   "id": "06b2381c",
   "metadata": {},
   "outputs": [],
   "source": []
  },
  {
   "cell_type": "code",
   "execution_count": null,
   "id": "0534513d",
   "metadata": {},
   "outputs": [],
   "source": []
  },
  {
   "cell_type": "code",
   "execution_count": null,
   "id": "99c205b1",
   "metadata": {},
   "outputs": [],
   "source": []
  }
 ],
 "metadata": {
  "kernelspec": {
   "display_name": "Python 3 (ipykernel)",
   "language": "python",
   "name": "python3"
  },
  "language_info": {
   "codemirror_mode": {
    "name": "ipython",
    "version": 3
   },
   "file_extension": ".py",
   "mimetype": "text/x-python",
   "name": "python",
   "nbconvert_exporter": "python",
   "pygments_lexer": "ipython3",
   "version": "3.11.5"
  }
 },
 "nbformat": 4,
 "nbformat_minor": 5
}
