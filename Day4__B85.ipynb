{
 "cells": [
  {
   "cell_type": "code",
   "execution_count": null,
   "id": "fae58b87",
   "metadata": {},
   "outputs": [],
   "source": [
    "introduction to list datatype :"
   ]
  },
  {
   "cell_type": "code",
   "execution_count": null,
   "id": "1c43ace6",
   "metadata": {},
   "outputs": [],
   "source": [
    "Defination : A list is a collection of items in a particular order.\n",
    "\n",
    "Classification : It is classified a mutable datatype (which can be edited/modified)\n"
   ]
  },
  {
   "cell_type": "code",
   "execution_count": null,
   "id": "500e9e6d",
   "metadata": {},
   "outputs": [],
   "source": [
    "How to define the lst data type []"
   ]
  },
  {
   "cell_type": "code",
   "execution_count": null,
   "id": "ed64233e",
   "metadata": {},
   "outputs": [],
   "source": []
  },
  {
   "cell_type": "code",
   "execution_count": 6,
   "id": "5b5f355e",
   "metadata": {},
   "outputs": [],
   "source": [
    "students = ['khadija','anitha','naveen','suresh','keerthi','david']  #0,1,2,3,4,5"
   ]
  },
  {
   "cell_type": "code",
   "execution_count": 3,
   "id": "32b58548",
   "metadata": {},
   "outputs": [
    {
     "name": "stdout",
     "output_type": "stream",
     "text": [
      "['khadija', 'anitha', 'naveen', 'suresh', 'keerthi', 'david']\n"
     ]
    }
   ],
   "source": [
    "print(students)"
   ]
  },
  {
   "cell_type": "code",
   "execution_count": null,
   "id": "89dd5aec",
   "metadata": {},
   "outputs": [],
   "source": []
  },
  {
   "cell_type": "code",
   "execution_count": 4,
   "id": "05398fcb",
   "metadata": {},
   "outputs": [
    {
     "ename": "SyntaxError",
     "evalue": "invalid syntax (2182605134.py, line 1)",
     "output_type": "error",
     "traceback": [
      "\u001b[1;36m  Cell \u001b[1;32mIn[4], line 1\u001b[1;36m\u001b[0m\n\u001b[1;33m    Understanding the concept of indexing : [0,1,2,3,4,5,......]\u001b[0m\n\u001b[1;37m                  ^\u001b[0m\n\u001b[1;31mSyntaxError\u001b[0m\u001b[1;31m:\u001b[0m invalid syntax\n"
     ]
    }
   ],
   "source": [
    "Understanding the concept of indexing : [0,1,2,3,4,5,......]"
   ]
  },
  {
   "cell_type": "code",
   "execution_count": null,
   "id": "10e2283b",
   "metadata": {},
   "outputs": [],
   "source": [
    "# req : i want to access lets say anitha name from the above......?"
   ]
  },
  {
   "cell_type": "code",
   "execution_count": 8,
   "id": "9736f558",
   "metadata": {},
   "outputs": [
    {
     "name": "stdout",
     "output_type": "stream",
     "text": [
      "anitha\n"
     ]
    }
   ],
   "source": [
    "print(students[1])"
   ]
  },
  {
   "cell_type": "code",
   "execution_count": null,
   "id": "52bda380",
   "metadata": {},
   "outputs": [],
   "source": [
    "# req : i want to access lets say suresh name from the above......?"
   ]
  },
  {
   "cell_type": "code",
   "execution_count": 9,
   "id": "a2f75725",
   "metadata": {},
   "outputs": [
    {
     "name": "stdout",
     "output_type": "stream",
     "text": [
      "suresh\n"
     ]
    }
   ],
   "source": [
    "print(students[3])"
   ]
  },
  {
   "cell_type": "code",
   "execution_count": 10,
   "id": "0bacb66b",
   "metadata": {},
   "outputs": [
    {
     "name": "stdout",
     "output_type": "stream",
     "text": [
      "Suresh\n"
     ]
    }
   ],
   "source": [
    "print(students[3].title())"
   ]
  },
  {
   "cell_type": "code",
   "execution_count": null,
   "id": "6eacaa43",
   "metadata": {},
   "outputs": [],
   "source": []
  },
  {
   "cell_type": "code",
   "execution_count": null,
   "id": "a3447804",
   "metadata": {},
   "outputs": [],
   "source": [
    "1. How to add elements in the list\n",
    "\n",
    "2. How to modify the elements in the list\n",
    "\n",
    "3. How to delete the elments in the list"
   ]
  },
  {
   "cell_type": "code",
   "execution_count": null,
   "id": "3797ba6e",
   "metadata": {},
   "outputs": [],
   "source": [
    "# i want to add satish name in the list "
   ]
  },
  {
   "cell_type": "code",
   "execution_count": 11,
   "id": "89a2b75f",
   "metadata": {},
   "outputs": [],
   "source": [
    "students.append('satish')"
   ]
  },
  {
   "cell_type": "code",
   "execution_count": 12,
   "id": "078c723b",
   "metadata": {},
   "outputs": [
    {
     "name": "stdout",
     "output_type": "stream",
     "text": [
      "['khadija', 'anitha', 'naveen', 'suresh', 'keerthi', 'david', 'satish']\n"
     ]
    }
   ],
   "source": [
    "print(students)"
   ]
  },
  {
   "cell_type": "code",
   "execution_count": null,
   "id": "08a08315",
   "metadata": {},
   "outputs": [],
   "source": [
    "# I want to add shoaib name in the list"
   ]
  },
  {
   "cell_type": "code",
   "execution_count": 13,
   "id": "7b035ba7",
   "metadata": {},
   "outputs": [],
   "source": [
    "students.append('shoaib')"
   ]
  },
  {
   "cell_type": "code",
   "execution_count": 14,
   "id": "a65133b2",
   "metadata": {},
   "outputs": [
    {
     "name": "stdout",
     "output_type": "stream",
     "text": [
      "['khadija', 'anitha', 'naveen', 'suresh', 'keerthi', 'david', 'satish', 'shoaib']\n"
     ]
    }
   ],
   "source": [
    "print(students)"
   ]
  },
  {
   "cell_type": "code",
   "execution_count": null,
   "id": "ee0b27c5",
   "metadata": {},
   "outputs": [],
   "source": [
    "# I want to add tanvir at 2nd index position"
   ]
  },
  {
   "cell_type": "code",
   "execution_count": 15,
   "id": "b5c2fd29",
   "metadata": {},
   "outputs": [],
   "source": [
    "students.insert(2,'tanvir')"
   ]
  },
  {
   "cell_type": "code",
   "execution_count": 16,
   "id": "58d452c0",
   "metadata": {},
   "outputs": [
    {
     "name": "stdout",
     "output_type": "stream",
     "text": [
      "['khadija', 'anitha', 'tanvir', 'naveen', 'suresh', 'keerthi', 'david', 'satish', 'shoaib']\n"
     ]
    }
   ],
   "source": [
    "print(students)"
   ]
  },
  {
   "cell_type": "code",
   "execution_count": null,
   "id": "dd22c1ed",
   "metadata": {},
   "outputs": [],
   "source": []
  },
  {
   "cell_type": "code",
   "execution_count": null,
   "id": "723ae19d",
   "metadata": {},
   "outputs": [],
   "source": [
    "what is the difference between append and insert methods in list data type..........?  *********"
   ]
  },
  {
   "cell_type": "code",
   "execution_count": 17,
   "id": "996ada14",
   "metadata": {},
   "outputs": [
    {
     "name": "stdout",
     "output_type": "stream",
     "text": [
      "['khadija', 'anitha', 'tanvir', 'naveen', 'suresh', 'keerthi', 'david', 'satish', 'shoaib']\n"
     ]
    }
   ],
   "source": [
    "print(students)"
   ]
  },
  {
   "cell_type": "code",
   "execution_count": null,
   "id": "000e6fff",
   "metadata": {},
   "outputs": [],
   "source": []
  },
  {
   "cell_type": "code",
   "execution_count": null,
   "id": "21727b5b",
   "metadata": {},
   "outputs": [],
   "source": [
    "# req : i want to modify khadija name to rubina"
   ]
  },
  {
   "cell_type": "code",
   "execution_count": 18,
   "id": "53f5a304",
   "metadata": {},
   "outputs": [],
   "source": [
    "students[0] = 'rubina'"
   ]
  },
  {
   "cell_type": "code",
   "execution_count": 19,
   "id": "7eb92e56",
   "metadata": {},
   "outputs": [
    {
     "name": "stdout",
     "output_type": "stream",
     "text": [
      "['rubina', 'anitha', 'tanvir', 'naveen', 'suresh', 'keerthi', 'david', 'satish', 'shoaib']\n"
     ]
    }
   ],
   "source": [
    "print(students)"
   ]
  },
  {
   "cell_type": "code",
   "execution_count": null,
   "id": "8e863bfb",
   "metadata": {},
   "outputs": [],
   "source": [
    "# i wanr to delete anitha name from the above list.........?"
   ]
  },
  {
   "cell_type": "code",
   "execution_count": 20,
   "id": "e9246274",
   "metadata": {},
   "outputs": [],
   "source": [
    "del students[1]"
   ]
  },
  {
   "cell_type": "code",
   "execution_count": 21,
   "id": "8306bf34",
   "metadata": {},
   "outputs": [
    {
     "name": "stdout",
     "output_type": "stream",
     "text": [
      "['rubina', 'tanvir', 'naveen', 'suresh', 'keerthi', 'david', 'satish', 'shoaib']\n"
     ]
    }
   ],
   "source": [
    "print(students)"
   ]
  },
  {
   "cell_type": "code",
   "execution_count": null,
   "id": "7f67d60b",
   "metadata": {},
   "outputs": [],
   "source": []
  },
  {
   "cell_type": "code",
   "execution_count": null,
   "id": "0457bdf3",
   "metadata": {},
   "outputs": [],
   "source": []
  },
  {
   "cell_type": "code",
   "execution_count": null,
   "id": "3bc5a731",
   "metadata": {},
   "outputs": [],
   "source": []
  },
  {
   "cell_type": "code",
   "execution_count": null,
   "id": "b3f1de5a",
   "metadata": {},
   "outputs": [],
   "source": []
  },
  {
   "cell_type": "code",
   "execution_count": null,
   "id": "df8a551f",
   "metadata": {},
   "outputs": [],
   "source": []
  }
 ],
 "metadata": {
  "kernelspec": {
   "display_name": "Python 3 (ipykernel)",
   "language": "python",
   "name": "python3"
  },
  "language_info": {
   "codemirror_mode": {
    "name": "ipython",
    "version": 3
   },
   "file_extension": ".py",
   "mimetype": "text/x-python",
   "name": "python",
   "nbconvert_exporter": "python",
   "pygments_lexer": "ipython3",
   "version": "3.11.5"
  }
 },
 "nbformat": 4,
 "nbformat_minor": 5
}
