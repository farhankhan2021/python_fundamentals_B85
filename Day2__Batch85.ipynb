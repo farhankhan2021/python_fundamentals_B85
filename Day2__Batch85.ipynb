{
 "cells": [
  {
   "cell_type": "code",
   "execution_count": null,
   "id": "a51a199a",
   "metadata": {},
   "outputs": [],
   "source": [
    "Understanding the variables in Python :"
   ]
  },
  {
   "cell_type": "code",
   "execution_count": 40,
   "id": "89471b95",
   "metadata": {},
   "outputs": [
    {
     "name": "stdout",
     "output_type": "stream",
     "text": [
      "13\n"
     ]
    }
   ],
   "source": [
    "x = 5\n",
    "y = 8\n",
    "\n",
    "z = x +y\n",
    "print(z)"
   ]
  },
  {
   "cell_type": "code",
   "execution_count": 39,
   "id": "566c161b",
   "metadata": {},
   "outputs": [
    {
     "name": "stdout",
     "output_type": "stream",
     "text": [
      "8\n"
     ]
    }
   ],
   "source": [
    "z = x+y\n",
    "print(z)"
   ]
  },
  {
   "cell_type": "code",
   "execution_count": null,
   "id": "da6e8866",
   "metadata": {},
   "outputs": [],
   "source": []
  },
  {
   "cell_type": "code",
   "execution_count": null,
   "id": "55a29310",
   "metadata": {},
   "outputs": [],
   "source": [
    "Rules for declaring the variables in Python :"
   ]
  },
  {
   "cell_type": "code",
   "execution_count": null,
   "id": "0c056cac",
   "metadata": {},
   "outputs": [],
   "source": [
    "Rule no 1: No name spaces while declaring the variable name"
   ]
  },
  {
   "cell_type": "code",
   "execution_count": 23,
   "id": "959058ec",
   "metadata": {},
   "outputs": [
    {
     "ename": "SyntaxError",
     "evalue": "invalid syntax (3254864180.py, line 1)",
     "output_type": "error",
     "traceback": [
      "\u001b[1;36m  Cell \u001b[1;32mIn[23], line 1\u001b[1;36m\u001b[0m\n\u001b[1;33m    first name = 'Farhan'\u001b[0m\n\u001b[1;37m          ^\u001b[0m\n\u001b[1;31mSyntaxError\u001b[0m\u001b[1;31m:\u001b[0m invalid syntax\n"
     ]
    }
   ],
   "source": [
    "first name = 'Farhan'\n",
    "print(first name)"
   ]
  },
  {
   "cell_type": "code",
   "execution_count": 24,
   "id": "c1282d83",
   "metadata": {},
   "outputs": [
    {
     "name": "stdout",
     "output_type": "stream",
     "text": [
      "Farhan\n"
     ]
    }
   ],
   "source": [
    "firstname = 'Farhan'\n",
    "print(firstname)"
   ]
  },
  {
   "cell_type": "code",
   "execution_count": 25,
   "id": "b730b4e4",
   "metadata": {},
   "outputs": [
    {
     "name": "stdout",
     "output_type": "stream",
     "text": [
      "Farhan\n"
     ]
    }
   ],
   "source": [
    "first_name = 'Farhan'\n",
    "print(first_name)"
   ]
  },
  {
   "cell_type": "code",
   "execution_count": null,
   "id": "b50c697f",
   "metadata": {},
   "outputs": [],
   "source": [
    "Rule no 2: A variable name should not start with a number****"
   ]
  },
  {
   "cell_type": "code",
   "execution_count": 26,
   "id": "f00e8552",
   "metadata": {},
   "outputs": [
    {
     "ename": "SyntaxError",
     "evalue": "invalid decimal literal (70771578.py, line 1)",
     "output_type": "error",
     "traceback": [
      "\u001b[1;36m  Cell \u001b[1;32mIn[26], line 1\u001b[1;36m\u001b[0m\n\u001b[1;33m    1name = 'Kishor'\u001b[0m\n\u001b[1;37m    ^\u001b[0m\n\u001b[1;31mSyntaxError\u001b[0m\u001b[1;31m:\u001b[0m invalid decimal literal\n"
     ]
    }
   ],
   "source": [
    "1name = 'Kishor'"
   ]
  },
  {
   "cell_type": "code",
   "execution_count": 27,
   "id": "6535e079",
   "metadata": {},
   "outputs": [
    {
     "name": "stdout",
     "output_type": "stream",
     "text": [
      "Kishor\n"
     ]
    }
   ],
   "source": [
    "name1 = 'Kishor'\n",
    "\n",
    "print(name1)"
   ]
  },
  {
   "cell_type": "code",
   "execution_count": null,
   "id": "39dd66ac",
   "metadata": {},
   "outputs": [],
   "source": [
    "Rule no 3: A variable should not contain special characters****"
   ]
  },
  {
   "cell_type": "code",
   "execution_count": null,
   "id": "8bbf1a61",
   "metadata": {},
   "outputs": [],
   "source": [
    "! @ # $ % ^ & * ()"
   ]
  },
  {
   "cell_type": "code",
   "execution_count": 28,
   "id": "b655f68b",
   "metadata": {},
   "outputs": [
    {
     "ename": "SyntaxError",
     "evalue": "invalid syntax (3173714976.py, line 1)",
     "output_type": "error",
     "traceback": [
      "\u001b[1;36m  Cell \u001b[1;32mIn[28], line 1\u001b[1;36m\u001b[0m\n\u001b[1;33m    name@ = 'Shubham'\u001b[0m\n\u001b[1;37m          ^\u001b[0m\n\u001b[1;31mSyntaxError\u001b[0m\u001b[1;31m:\u001b[0m invalid syntax\n"
     ]
    }
   ],
   "source": [
    "name@ = 'Shubham'\n",
    "\n",
    "print(name@)"
   ]
  },
  {
   "cell_type": "code",
   "execution_count": null,
   "id": "9130e3f0",
   "metadata": {},
   "outputs": [],
   "source": []
  },
  {
   "cell_type": "code",
   "execution_count": null,
   "id": "86bf7f38",
   "metadata": {},
   "outputs": [],
   "source": [
    "Introduction to Datatypes in Python:"
   ]
  },
  {
   "cell_type": "code",
   "execution_count": null,
   "id": "edf2433d",
   "metadata": {},
   "outputs": [],
   "source": [
    "1. String =======>  STR\n",
    "\n",
    "2. Numbers ========> Integers (int) and Floats (float) (decimals 0.1, 0.2)\n",
    "\n",
    "3. List =========> List\n",
    "\n",
    "4. Tuples ==========> tuple\n",
    "\n",
    "5. Dictionaries =========> dict"
   ]
  },
  {
   "cell_type": "code",
   "execution_count": null,
   "id": "d23167ee",
   "metadata": {},
   "outputs": [],
   "source": [
    "Classification of Datatypes :\n",
    "    \n",
    "    Broadly datatypes are classified into two categories:\n",
    "        \n",
    "        1. Mutable datatype =======>  which we can edit and alter ======> flexible in nature\n",
    "        \n",
    "        2. Immutable datatype =====>  which we cannot be able to edit or alter ======> fixed in nature\n",
    "    "
   ]
  },
  {
   "cell_type": "code",
   "execution_count": null,
   "id": "332c103e",
   "metadata": {},
   "outputs": [],
   "source": [
    "Introduction to string datatype:\n",
    "    "
   ]
  },
  {
   "cell_type": "code",
   "execution_count": null,
   "id": "2729e3a0",
   "metadata": {},
   "outputs": [],
   "source": [
    "Def : A string is a series of characters declared in quotes.\n",
    "    \n",
    "Classification : It is declared as an immutable datatype (Fixed datatype)\n",
    "    \n",
    "    How to define string datatype ?\n",
    "    \n",
    "    1. Single Quote ''\n",
    "    \n",
    "    2. Double Quote \"\""
   ]
  },
  {
   "cell_type": "code",
   "execution_count": 29,
   "id": "a845ad86",
   "metadata": {},
   "outputs": [
    {
     "name": "stdout",
     "output_type": "stream",
     "text": [
      "Mahesh\n"
     ]
    }
   ],
   "source": [
    "name = 'Mahesh'\n",
    "print(name)"
   ]
  },
  {
   "cell_type": "code",
   "execution_count": 31,
   "id": "4d81db8b",
   "metadata": {},
   "outputs": [
    {
     "name": "stdout",
     "output_type": "stream",
     "text": [
      "Sandeep\n"
     ]
    }
   ],
   "source": [
    "name2 = \"Sandeep\"\n",
    "print(name2)"
   ]
  },
  {
   "cell_type": "code",
   "execution_count": null,
   "id": "d05dae26",
   "metadata": {},
   "outputs": [],
   "source": []
  },
  {
   "cell_type": "code",
   "execution_count": null,
   "id": "e516d381",
   "metadata": {},
   "outputs": [],
   "source": [
    "Introduction to string methods :"
   ]
  },
  {
   "cell_type": "code",
   "execution_count": 32,
   "id": "5bd9b7b5",
   "metadata": {},
   "outputs": [
    {
     "data": {
      "text/plain": [
       "str"
      ]
     },
     "execution_count": 32,
     "metadata": {},
     "output_type": "execute_result"
    }
   ],
   "source": [
    "type(name)"
   ]
  },
  {
   "cell_type": "code",
   "execution_count": 33,
   "id": "69aec298",
   "metadata": {},
   "outputs": [
    {
     "data": {
      "text/plain": [
       "str"
      ]
     },
     "execution_count": 33,
     "metadata": {},
     "output_type": "execute_result"
    }
   ],
   "source": [
    "type(name2)"
   ]
  },
  {
   "cell_type": "code",
   "execution_count": null,
   "id": "abcfc1a1",
   "metadata": {},
   "outputs": [],
   "source": []
  },
  {
   "cell_type": "code",
   "execution_count": 34,
   "id": "a2671338",
   "metadata": {},
   "outputs": [
    {
     "name": "stdout",
     "output_type": "stream",
     "text": [
      "shahrukh khan\n"
     ]
    }
   ],
   "source": [
    "fullname = \"shahrukh khan\"\n",
    "\n",
    "print(fullname)"
   ]
  },
  {
   "cell_type": "code",
   "execution_count": 35,
   "id": "3dc229c9",
   "metadata": {},
   "outputs": [
    {
     "name": "stdout",
     "output_type": "stream",
     "text": [
      "Shahrukh Khan\n"
     ]
    }
   ],
   "source": [
    "print(fullname.title())"
   ]
  },
  {
   "cell_type": "code",
   "execution_count": null,
   "id": "047c6ab7",
   "metadata": {},
   "outputs": [],
   "source": []
  }
 ],
 "metadata": {
  "kernelspec": {
   "display_name": "Python 3 (ipykernel)",
   "language": "python",
   "name": "python3"
  },
  "language_info": {
   "codemirror_mode": {
    "name": "ipython",
    "version": 3
   },
   "file_extension": ".py",
   "mimetype": "text/x-python",
   "name": "python",
   "nbconvert_exporter": "python",
   "pygments_lexer": "ipython3",
   "version": "3.11.5"
  }
 },
 "nbformat": 4,
 "nbformat_minor": 5
}
